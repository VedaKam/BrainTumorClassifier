{
  "cells": [
    {
      "cell_type": "markdown",
      "id": "6acd25d7",
      "metadata": {
        "id": "6acd25d7"
      },
      "source": [
        "Copyright (c) 2022 AIClub\n",
        "\n",
        "Permission is hereby granted, free of charge, to any person obtaining a copy of this software and associated \n",
        "documentation files (the \"Software\"), to deal in the Software without restriction, including without \n",
        "limitation the rights to use, copy, modify, merge, publish, distribute, sublicense, and/or sell copies of \n",
        "the Software, and to permit persons to whom the Software is furnished to do so, subject to the following \n",
        "conditions:\n",
        "\n",
        "The above copyright notice and this permission notice shall be included in all copies or substantial\n",
        "portions of the Software.\n",
        "\n",
        "THE SOFTWARE IS PROVIDED \"AS IS\", WITHOUT WARRANTY OF ANY KIND, EXPRESS OR IMPLIED, INCLUDING BUT NOT \n",
        "LIMITED TO THE WARRANTIES OF MERCHANTABILITY, FITNESS FOR A PARTICULAR PURPOSE AND NONINFRINGEMENT. IN NO \n",
        "EVENT SHALL THE AUTHORS OR COPYRIGHT HOLDERS BE LIABLE FOR ANY CLAIM, DAMAGES OR OTHER LIABILITY, WHETHER IN \n",
        "AN ACTION OF CONTRACT, TORT OR OTHERWISE, ARISING FROM, OUT OF OR IN CONNECTION WITH THE SOFTWARE OR THE USE \n",
        "OR OTHER DEALINGS IN THE SOFTWARE.\n",
        "\n",
        "Follow our courses - https://www.corp.aiclub.world/courses\n",
        "\n"
      ]
    },
    {
      "cell_type": "code",
      "execution_count": null,
      "id": "2f8d834f",
      "metadata": {
        "id": "2f8d834f",
        "outputId": "ee2af03a-5376-4159-b8ea-2ddf3e9f5d2f",
        "colab": {
          "base_uri": "https://localhost:8080/"
        }
      },
      "outputs": [
        {
          "output_type": "stream",
          "name": "stdout",
          "text": [
            "Mounted at /content/drive\n"
          ]
        }
      ],
      "source": [
        "\n",
        "from google.colab import drive\n",
        "drive.mount('/content/drive')\n"
      ]
    },
    {
      "cell_type": "code",
      "execution_count": null,
      "id": "3469ea75",
      "metadata": {
        "id": "3469ea75"
      },
      "outputs": [],
      "source": [
        "\n",
        "# Please replace the brackets below with the drive location of your folder which included subfolders for images\n",
        "# Sample path: /content/drive/My Drive/ImageClassification\n",
        "PATH = '/content/drive/MyDrive/BrainTumorDataset/brain_tumor_dataset'\n"
      ]
    },
    {
      "cell_type": "code",
      "execution_count": null,
      "id": "46c7b487",
      "metadata": {
        "id": "46c7b487"
      },
      "outputs": [],
      "source": [
        "def create_model(base_model, num_classes):\n",
        "    import tensorflow as tf\n",
        "    # Grab the last layer and add a few extra layers to it\n",
        "    x=base_model.output\n",
        "    x=GlobalAveragePooling2D()(x)\n",
        "    # Dense layer 1\n",
        "    x=tf.keras.layers.Dense(100,activation='relu', kernel_initializer=tf.keras.initializers.VarianceScaling(), use_bias=True)(x)\n",
        "\n",
        "    # Final layer with softmax activation\n",
        "    preds=tf.keras.layers.Dense(num_classes,activation='softmax', kernel_initializer=tf.keras.initializers.VarianceScaling(), use_bias=False)(x) \n",
        "    \n",
        "    # Create the final model\n",
        "    model=Model(inputs=base_model.input,outputs=preds)\n",
        "    return model\n"
      ]
    },
    {
      "cell_type": "code",
      "execution_count": null,
      "id": "f9e6c848",
      "metadata": {
        "id": "f9e6c848"
      },
      "outputs": [],
      "source": [
        "def get_optimizer(optimizer_name, learning_rate):\n",
        "    # Import keras optimizers\n",
        "    from tensorflow.keras.optimizers import Adam, Adadelta, Adagrad, Adamax, Ftrl, Nadam, RMSprop, SGD\n",
        "    print('Selected Optimizer', optimizer_name)\n",
        "    switcher = {\n",
        "        'Adadelta': Adadelta(lr=learning_rate),\n",
        "        'Adagrad': Adagrad(lr=learning_rate),\n",
        "        'Adam': Adam(lr=learning_rate),\n",
        "        'Adamax': Adamax(lr=learning_rate),\n",
        "        'FTRL': Ftrl(lr=learning_rate),\n",
        "        'NAdam': Nadam(lr=learning_rate),\n",
        "        'RMSprop': RMSprop(lr=learning_rate),\n",
        "        'Gradient Descent': SGD(lr=learning_rate)\n",
        "    }\n",
        "    # If optimizer_name is empty, Adam will be return as default optimizer\n",
        "    return switcher.get(optimizer_name, Adam(lr=learning_rate))\n"
      ]
    },
    {
      "cell_type": "code",
      "execution_count": null,
      "id": "a1a1a50f",
      "metadata": {
        "id": "a1a1a50f",
        "outputId": "ec3e2940-3df4-42c7-8491-8a095d9ec187",
        "colab": {
          "base_uri": "https://localhost:8080/"
        }
      },
      "outputs": [
        {
          "output_type": "stream",
          "name": "stdout",
          "text": [
            "Found 184 images belonging to 2 classes.\n",
            "Found 45 images belonging to 2 classes.\n",
            "154\n",
            "Selected Optimizer Adam\n"
          ]
        },
        {
          "output_type": "stream",
          "name": "stderr",
          "text": [
            "/usr/local/lib/python3.7/dist-packages/keras/optimizer_v2/adadelta.py:74: UserWarning: The `lr` argument is deprecated, use `learning_rate` instead.\n",
            "  super(Adadelta, self).__init__(name, **kwargs)\n",
            "/usr/local/lib/python3.7/dist-packages/keras/optimizer_v2/adagrad.py:74: UserWarning: The `lr` argument is deprecated, use `learning_rate` instead.\n",
            "  super(Adagrad, self).__init__(name, **kwargs)\n",
            "/usr/local/lib/python3.7/dist-packages/keras/optimizer_v2/adam.py:105: UserWarning: The `lr` argument is deprecated, use `learning_rate` instead.\n",
            "  super(Adam, self).__init__(name, **kwargs)\n",
            "/usr/local/lib/python3.7/dist-packages/keras/optimizer_v2/adamax.py:90: UserWarning: The `lr` argument is deprecated, use `learning_rate` instead.\n",
            "  super(Adamax, self).__init__(name, **kwargs)\n",
            "/usr/local/lib/python3.7/dist-packages/keras/optimizer_v2/ftrl.py:110: UserWarning: The `lr` argument is deprecated, use `learning_rate` instead.\n",
            "  super(Ftrl, self).__init__(name, **kwargs)\n",
            "/usr/local/lib/python3.7/dist-packages/keras/optimizer_v2/nadam.py:73: UserWarning: The `lr` argument is deprecated, use `learning_rate` instead.\n",
            "  super(Nadam, self).__init__(name, **kwargs)\n",
            "/usr/local/lib/python3.7/dist-packages/keras/optimizer_v2/rmsprop.py:130: UserWarning: The `lr` argument is deprecated, use `learning_rate` instead.\n",
            "  super(RMSprop, self).__init__(name, **kwargs)\n",
            "/usr/local/lib/python3.7/dist-packages/keras/optimizer_v2/gradient_descent.py:102: UserWarning: The `lr` argument is deprecated, use `learning_rate` instead.\n",
            "  super(SGD, self).__init__(name, **kwargs)\n"
          ]
        },
        {
          "output_type": "stream",
          "name": "stdout",
          "text": [
            "Epoch 1/40\n",
            "6/6 [==============================] - 8s 830ms/step - loss: 1.3085 - accuracy: 0.5217 - val_loss: 0.8345 - val_accuracy: 0.4000\n",
            "Epoch 2/40\n",
            "6/6 [==============================] - 4s 610ms/step - loss: 0.5618 - accuracy: 0.6739 - val_loss: 0.6286 - val_accuracy: 0.7111\n",
            "Epoch 3/40\n",
            "6/6 [==============================] - 4s 631ms/step - loss: 0.4848 - accuracy: 0.7554 - val_loss: 0.4735 - val_accuracy: 0.7111\n",
            "Epoch 4/40\n",
            "6/6 [==============================] - 4s 625ms/step - loss: 0.3734 - accuracy: 0.8370 - val_loss: 0.5606 - val_accuracy: 0.7556\n",
            "Epoch 5/40\n",
            "6/6 [==============================] - 4s 603ms/step - loss: 0.3200 - accuracy: 0.8696 - val_loss: 0.5079 - val_accuracy: 0.7111\n",
            "Epoch 6/40\n",
            "6/6 [==============================] - 4s 639ms/step - loss: 0.3016 - accuracy: 0.9076 - val_loss: 0.5969 - val_accuracy: 0.7778\n",
            "Epoch 7/40\n",
            "6/6 [==============================] - 4s 606ms/step - loss: 0.2922 - accuracy: 0.8696 - val_loss: 0.5844 - val_accuracy: 0.7778\n",
            "Epoch 8/40\n",
            "6/6 [==============================] - 4s 619ms/step - loss: 0.2473 - accuracy: 0.9076 - val_loss: 0.5831 - val_accuracy: 0.7778\n",
            "Epoch 9/40\n",
            "6/6 [==============================] - 4s 597ms/step - loss: 0.2290 - accuracy: 0.9239 - val_loss: 0.5690 - val_accuracy: 0.7778\n",
            "Epoch 10/40\n",
            "6/6 [==============================] - 4s 632ms/step - loss: 0.2165 - accuracy: 0.9022 - val_loss: 0.6379 - val_accuracy: 0.7778\n",
            "Epoch 11/40\n",
            "6/6 [==============================] - 4s 601ms/step - loss: 0.1813 - accuracy: 0.9185 - val_loss: 0.5585 - val_accuracy: 0.7778\n",
            "Epoch 12/40\n",
            "6/6 [==============================] - 4s 608ms/step - loss: 0.1556 - accuracy: 0.9457 - val_loss: 0.6001 - val_accuracy: 0.7778\n",
            "Epoch 13/40\n",
            "6/6 [==============================] - 4s 588ms/step - loss: 0.1388 - accuracy: 0.9728 - val_loss: 0.6690 - val_accuracy: 0.8000\n",
            "Epoch 14/40\n",
            "6/6 [==============================] - 4s 593ms/step - loss: 0.1263 - accuracy: 0.9783 - val_loss: 0.6041 - val_accuracy: 0.7778\n",
            "Epoch 15/40\n",
            "6/6 [==============================] - 4s 592ms/step - loss: 0.1210 - accuracy: 0.9620 - val_loss: 0.6013 - val_accuracy: 0.7778\n",
            "Epoch 16/40\n",
            "6/6 [==============================] - 4s 622ms/step - loss: 0.1136 - accuracy: 0.9565 - val_loss: 0.9147 - val_accuracy: 0.7778\n",
            "Epoch 17/40\n",
            "6/6 [==============================] - 4s 607ms/step - loss: 0.0839 - accuracy: 0.9891 - val_loss: 0.6548 - val_accuracy: 0.8000\n",
            "Epoch 18/40\n",
            "6/6 [==============================] - 4s 617ms/step - loss: 0.0789 - accuracy: 0.9783 - val_loss: 0.8130 - val_accuracy: 0.8000\n",
            "Epoch 19/40\n",
            "6/6 [==============================] - 4s 597ms/step - loss: 0.0588 - accuracy: 0.9891 - val_loss: 1.0287 - val_accuracy: 0.7778\n",
            "Epoch 20/40\n",
            "6/6 [==============================] - 4s 626ms/step - loss: 0.0541 - accuracy: 0.9946 - val_loss: 0.7573 - val_accuracy: 0.8000\n",
            "Epoch 21/40\n",
            "6/6 [==============================] - 4s 609ms/step - loss: 0.0585 - accuracy: 0.9891 - val_loss: 0.9694 - val_accuracy: 0.8000\n",
            "Epoch 22/40\n",
            "6/6 [==============================] - 4s 622ms/step - loss: 0.0386 - accuracy: 1.0000 - val_loss: 0.8746 - val_accuracy: 0.7778\n",
            "Epoch 23/40\n",
            "6/6 [==============================] - 4s 618ms/step - loss: 0.0357 - accuracy: 1.0000 - val_loss: 0.8247 - val_accuracy: 0.8000\n",
            "Epoch 24/40\n",
            "6/6 [==============================] - 4s 603ms/step - loss: 0.0322 - accuracy: 1.0000 - val_loss: 1.1390 - val_accuracy: 0.7778\n",
            "Epoch 25/40\n",
            "6/6 [==============================] - 4s 610ms/step - loss: 0.0228 - accuracy: 1.0000 - val_loss: 0.9118 - val_accuracy: 0.8000\n",
            "Epoch 26/40\n",
            "6/6 [==============================] - 4s 599ms/step - loss: 0.0164 - accuracy: 1.0000 - val_loss: 1.0337 - val_accuracy: 0.7778\n",
            "Epoch 27/40\n",
            "6/6 [==============================] - 4s 610ms/step - loss: 0.0147 - accuracy: 1.0000 - val_loss: 0.9315 - val_accuracy: 0.8000\n",
            "Epoch 28/40\n",
            "6/6 [==============================] - 4s 596ms/step - loss: 0.0128 - accuracy: 1.0000 - val_loss: 1.0202 - val_accuracy: 0.7778\n",
            "Epoch 29/40\n",
            "6/6 [==============================] - 4s 606ms/step - loss: 0.0103 - accuracy: 1.0000 - val_loss: 1.0043 - val_accuracy: 0.8000\n",
            "Epoch 30/40\n",
            "6/6 [==============================] - 4s 605ms/step - loss: 0.0101 - accuracy: 1.0000 - val_loss: 1.0924 - val_accuracy: 0.8000\n",
            "Epoch 31/40\n",
            "6/6 [==============================] - 4s 606ms/step - loss: 0.0106 - accuracy: 1.0000 - val_loss: 1.0590 - val_accuracy: 0.7778\n",
            "Epoch 32/40\n",
            "6/6 [==============================] - 5s 797ms/step - loss: 0.0096 - accuracy: 1.0000 - val_loss: 1.0687 - val_accuracy: 0.7778\n",
            "Epoch 33/40\n",
            "6/6 [==============================] - 4s 634ms/step - loss: 0.0082 - accuracy: 1.0000 - val_loss: 1.1677 - val_accuracy: 0.8000\n"
          ]
        }
      ],
      "source": [
        "\n",
        "# Import packages needed to create a imaage classification model\n",
        "import matplotlib.pyplot as plt\n",
        "import numpy as np\n",
        "import os\n",
        "import tensorflow as tf\n",
        "\n",
        "from keras.applications.resnet import preprocess_input\n",
        "from keras.preprocessing.image import ImageDataGenerator\n",
        "from keras.layers import Dense,GlobalAveragePooling2D\n",
        "from keras.models import Model\n",
        "from tensorflow.keras import regularizers\n",
        "\n",
        "from tensorflow.keras.preprocessing import image_dataset_from_directory\n",
        "from keras.callbacks import EarlyStopping\n",
        "from tensorflow import keras\n",
        "\n",
        "# Initialize hyper params\n",
        "epochs = 40 #<-- increase for higher accuracy\n",
        "base_learning_rate = 0.005 #decrease for different results; use excel sheet to note down results from each change to learning rate and epochs\n",
        "optimizer = 'Adam'\n",
        "BATCH_SIZE = 32\n",
        "\n",
        "IMG_SIZE = (224, 224)\n",
        "\n",
        "# Create the data generation pipeline for training and validation\n",
        "train_datagen = ImageDataGenerator(preprocessing_function=preprocess_input, validation_split=0.2) # set validation split\n",
        "\n",
        "train_generator = train_datagen.flow_from_directory(PATH,\n",
        "                                                target_size=IMG_SIZE,\n",
        "                                                color_mode='rgb',\n",
        "                                                batch_size=BATCH_SIZE,\n",
        "                                                class_mode='categorical',\n",
        "                                                shuffle=True,\n",
        "                                                subset = 'training')\n",
        "validation_generator = train_datagen.flow_from_directory(PATH,\n",
        "                                                target_size=IMG_SIZE,\n",
        "                                                color_mode='rgb',\n",
        "                                                batch_size=BATCH_SIZE,\n",
        "                                                class_mode='categorical',\n",
        "                                                shuffle=True,\n",
        "                                                subset = 'validation')\n",
        "\n",
        "# Download the model, valid alpha values [0.25,0.35,0.5,0.75,1]\n",
        "base_model = tf.keras.applications.mobilenet_v2.MobileNetV2(input_shape=(224, 224, 3), include_top=False, weights='imagenet', alpha=0.35)\n",
        "for layer in base_model.layers:\n",
        "    layer.trainable=False\n",
        "\n",
        "# Specify the number of classes\n",
        "num_classes = 2\n",
        "\n",
        "# Create the base model\n",
        "model = create_model(base_model,num_classes)\n",
        "\n",
        "print(len(base_model.layers))\n",
        "\n",
        "model.compile(optimizer = get_optimizer(optimizer_name=optimizer,learning_rate=base_learning_rate),loss='CategoricalCrossentropy',metrics=['accuracy'])\n",
        "# Adam optimizer\n",
        "# loss function will be categorical cross entropy\n",
        "# evaluation metric will be accuracy\n",
        "\n",
        "early_stopping_monitor = EarlyStopping(\n",
        "    monitor='val_loss',\n",
        "    min_delta=0,\n",
        "    patience=30,\n",
        "    verbose=0,\n",
        "    mode='auto',\n",
        "    baseline=None,\n",
        "    restore_best_weights=True\n",
        ")\n",
        "\n",
        "step_size_train = train_generator.n//train_generator.batch_size\n",
        "history_fine = model.fit(train_generator,\n",
        "                        epochs=epochs,\n",
        "                        callbacks=[early_stopping_monitor],\n",
        "                        validation_data = validation_generator,\n",
        "                        verbose=1)\n"
      ]
    },
    {
      "cell_type": "code",
      "execution_count": null,
      "id": "be0ad907",
      "metadata": {
        "id": "be0ad907",
        "outputId": "f039e035-2646-4e37-9601-0169d115366f",
        "colab": {
          "base_uri": "https://localhost:8080/"
        }
      },
      "outputs": [
        {
          "output_type": "stream",
          "name": "stdout",
          "text": [
            "Training Accuracy:  [0.52173912525177, 0.6739130616188049, 0.7554348111152649, 0.8369565010070801, 0.8695651888847351, 0.907608687877655, 0.8695651888847351, 0.907608687877655, 0.9239130616188049, 0.9021739363670349, 0.91847825050354, 0.945652186870575, 0.9728260636329651, 0.97826087474823, 0.9619565010070801, 0.95652174949646, 0.989130437374115, 0.97826087474823, 0.989130437374115, 0.9945651888847351, 0.989130437374115, 1.0, 1.0, 1.0, 1.0, 1.0, 1.0, 1.0, 1.0, 1.0, 1.0, 1.0, 1.0]\n",
            "Validation Accuracy:  [0.4000000059604645, 0.7111111283302307, 0.7111111283302307, 0.7555555701255798, 0.7111111283302307, 0.7777777910232544, 0.7777777910232544, 0.7777777910232544, 0.7777777910232544, 0.7777777910232544, 0.7777777910232544, 0.7777777910232544, 0.800000011920929, 0.7777777910232544, 0.7777777910232544, 0.7777777910232544, 0.800000011920929, 0.800000011920929, 0.7777777910232544, 0.800000011920929, 0.800000011920929, 0.7777777910232544, 0.800000011920929, 0.7777777910232544, 0.800000011920929, 0.7777777910232544, 0.800000011920929, 0.7777777910232544, 0.800000011920929, 0.800000011920929, 0.7777777910232544, 0.7777777910232544, 0.800000011920929]\n",
            "Training Loss:  [1.308503270149231, 0.5618071556091309, 0.4847962260246277, 0.37336674332618713, 0.3199569582939148, 0.30158278346061707, 0.2922302782535553, 0.2472555786371231, 0.2289966493844986, 0.21651872992515564, 0.1812809705734253, 0.15557634830474854, 0.1387561559677124, 0.1263338327407837, 0.12100508064031601, 0.1135830357670784, 0.08385265618562698, 0.07888850569725037, 0.05880071222782135, 0.05411974713206291, 0.058530211448669434, 0.03857595846056938, 0.03573349118232727, 0.03215080872178078, 0.022766439244151115, 0.016365814954042435, 0.01472871471196413, 0.01282417494803667, 0.010332565754652023, 0.010133558884263039, 0.010627136565744877, 0.009616942144930363, 0.008208106271922588]\n",
            "Validation Loss:  [0.8345210552215576, 0.628622829914093, 0.47351518273353577, 0.560606837272644, 0.5078875422477722, 0.5969375967979431, 0.5844205021858215, 0.583073079586029, 0.5689871907234192, 0.6379181742668152, 0.5585053563117981, 0.6000676155090332, 0.6689882874488831, 0.6040554642677307, 0.6013127565383911, 0.9146646857261658, 0.6547833681106567, 0.8129920363426208, 1.0287115573883057, 0.7573269605636597, 0.9694039821624756, 0.8746462464332581, 0.8246707320213318, 1.1389802694320679, 0.9117567539215088, 1.0336662530899048, 0.93152916431427, 1.0202497243881226, 1.004274845123291, 1.0924408435821533, 1.0589580535888672, 1.0687224864959717, 1.1676799058914185]\n",
            "best model accuracy:  0.7111111283302307\n"
          ]
        }
      ],
      "source": [
        "\n",
        "# Import numpy for calculating best model accuracy\n",
        "import numpy as np\n",
        "# Populating matrics -> accuracy & loss\n",
        "acc = history_fine.history['accuracy']\n",
        "val_acc = history_fine.history['val_accuracy']\n",
        "\n",
        "loss = history_fine.history['loss']\n",
        "val_loss = history_fine.history['val_loss']\n",
        "\n",
        "print('Training Accuracy: ', acc)\n",
        "print('Validation Accuracy: ', val_acc)\n",
        "print('Training Loss: ', loss)\n",
        "print('Validation Loss: ', val_loss)\n",
        "best_model_accuracy = history_fine.history['val_accuracy'][np.argmin(history_fine.history['val_loss'])]\n",
        "print('best model accuracy: ', best_model_accuracy)\n"
      ]
    },
    {
      "cell_type": "code",
      "execution_count": null,
      "id": "777cbe29",
      "metadata": {
        "id": "777cbe29",
        "outputId": "3de244c3-3d93-447f-cac8-44d347b7bf84",
        "colab": {
          "base_uri": "https://localhost:8080/"
        }
      },
      "outputs": [
        {
          "output_type": "stream",
          "name": "stdout",
          "text": [
            "[[0.01441134 0.9855886 ]]\n"
          ]
        }
      ],
      "source": [
        "\n",
        "# Predicting code for an image\n",
        "from tensorflow.keras.preprocessing import image\n",
        "# Please replace the brackets below with the location of your image which need to predict\n",
        "img_path = '/content/drive/MyDrive/BrainTumorDataset/brain_tumor_test/yes/Y21.jpg'\n",
        "img = image.load_img(img_path, target_size=IMG_SIZE)\n",
        "img_array = image.img_to_array(img)\n",
        "img_batch = np.expand_dims(img_array, axis=0)\n",
        "img_preprocessed = preprocess_input(img_batch)\n",
        "prediction = model.predict(img_preprocessed)\n",
        "print(prediction)\n"
      ]
    }
  ],
  "metadata": {
    "colab": {
      "name": "BrainTumorClassification",
      "provenance": []
    },
    "language_info": {
      "name": "python"
    },
    "kernelspec": {
      "name": "python3",
      "display_name": "Python 3"
    },
    "gpuClass": "standard"
  },
  "nbformat": 4,
  "nbformat_minor": 5
}